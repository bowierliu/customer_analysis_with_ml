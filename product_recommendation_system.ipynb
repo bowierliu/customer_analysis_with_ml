{
  "nbformat": 4,
  "nbformat_minor": 0,
  "metadata": {
    "colab": {
      "provenance": []
    },
    "kernelspec": {
      "name": "python3",
      "display_name": "Python 3"
    },
    "language_info": {
      "name": "python"
    }
  },
  "cells": [
    {
      "cell_type": "markdown",
      "source": [
        "## Project Goal\n",
        "\n",
        "The goal of this project is to develop a **Product Recommendation System** that suggests products (e.g., wine, fruits, meat) based on past purchase behavior. By leveraging collaborative filtering and matrix factorization techniques, the project aims to:\n",
        "\n",
        "1. Recommend personalized products to customers to enhance their shopping experience.\n",
        "2. Identify patterns in purchase behavior to inform cross-selling strategies.\n",
        "3. Evaluate the quality of recommendations using precision, recall, and F1-score metrics."
      ],
      "metadata": {
        "id": "zYNcm5mv4pEA"
      }
    },
    {
      "cell_type": "markdown",
      "source": [
        "## Libraries"
      ],
      "metadata": {
        "id": "u8Rg2jcg4SrY"
      }
    },
    {
      "cell_type": "code",
      "execution_count": 1,
      "metadata": {
        "id": "Ql4j2WMz2zpH"
      },
      "outputs": [],
      "source": [
        "from google.colab import drive\n",
        "import pandas as pd\n",
        "import numpy as np\n",
        "from sklearn.metrics.pairwise import cosine_similarity\n",
        "from sklearn.metrics import precision_score, recall_score, f1_score\n",
        "import scipy.sparse as sp\n",
        "from sklearn.decomposition import TruncatedSVD"
      ]
    },
    {
      "cell_type": "code",
      "source": [
        "#Mount Google Drive\n",
        "drive.mount('/content/drive')\n",
        "\n",
        "#Define the file path\n",
        "file_path = '/content/drive/My Drive/marketing_campaign.csv'\n",
        "\n",
        "#Load the dataset\n",
        "df = pd.read_csv(file_path, delimiter='\\t')\n",
        "print(df.head())"
      ],
      "metadata": {
        "colab": {
          "base_uri": "https://localhost:8080/"
        },
        "id": "H5eCIFbs4VKh",
        "outputId": "df7a12c2-4163-4bfa-f0b5-88e6545dc073"
      },
      "execution_count": 2,
      "outputs": [
        {
          "output_type": "stream",
          "name": "stdout",
          "text": [
            "Mounted at /content/drive\n",
            "     ID  Year_Birth   Education Marital_Status   Income  Kidhome  Teenhome  \\\n",
            "0  5524        1957  Graduation         Single  58138.0        0         0   \n",
            "1  2174        1954  Graduation         Single  46344.0        1         1   \n",
            "2  4141        1965  Graduation       Together  71613.0        0         0   \n",
            "3  6182        1984  Graduation       Together  26646.0        1         0   \n",
            "4  5324        1981         PhD        Married  58293.0        1         0   \n",
            "\n",
            "  Dt_Customer  Recency  MntWines  ...  NumWebVisitsMonth  AcceptedCmp3  \\\n",
            "0  04-09-2012       58       635  ...                  7             0   \n",
            "1  08-03-2014       38        11  ...                  5             0   \n",
            "2  21-08-2013       26       426  ...                  4             0   \n",
            "3  10-02-2014       26        11  ...                  6             0   \n",
            "4  19-01-2014       94       173  ...                  5             0   \n",
            "\n",
            "   AcceptedCmp4  AcceptedCmp5  AcceptedCmp1  AcceptedCmp2  Complain  \\\n",
            "0             0             0             0             0         0   \n",
            "1             0             0             0             0         0   \n",
            "2             0             0             0             0         0   \n",
            "3             0             0             0             0         0   \n",
            "4             0             0             0             0         0   \n",
            "\n",
            "   Z_CostContact  Z_Revenue  Response  \n",
            "0              3         11         1  \n",
            "1              3         11         0  \n",
            "2              3         11         0  \n",
            "3              3         11         0  \n",
            "4              3         11         0  \n",
            "\n",
            "[5 rows x 29 columns]\n"
          ]
        }
      ]
    },
    {
      "cell_type": "markdown",
      "source": [
        "## Recommendation System"
      ],
      "metadata": {
        "id": "JqdOEBSQ5USC"
      }
    },
    {
      "cell_type": "code",
      "source": [
        "# Preprocessing: Select relevant purchase data\n",
        "purchase_features = ['MntWines', 'MntFruits', 'MntMeatProducts', 'MntFishProducts', 'MntSweetProducts', 'MntGoldProds']\n",
        "user_item_matrix = df[purchase_features]\n",
        "user_item_matrix.index = df['ID']  # Assuming 'ID' is a unique customer identifier\n",
        "\n",
        "# Normalize the data (optional: to account for different scales)\n",
        "user_item_matrix = user_item_matrix.div(user_item_matrix.sum(axis=1), axis=0).fillna(0)\n",
        "\n",
        "# Convert to a sparse matrix for efficient computation\n",
        "sparse_matrix = sp.csr_matrix(user_item_matrix.values)\n",
        "\n",
        "# Apply Matrix Factorization using Truncated SVD\n",
        "n_components = 5  # Number of latent factors\n",
        "svd = TruncatedSVD(n_components=n_components, random_state=42)\n",
        "user_factors = svd.fit_transform(sparse_matrix)\n",
        "item_factors = svd.components_.T\n",
        "\n",
        "# Compute similarity scores (item-based)\n",
        "item_similarity = cosine_similarity(item_factors)\n",
        "\n",
        "# Recommendation function\n",
        "def recommend_products(customer_id, top_n=3):\n",
        "    user_index = user_item_matrix.index.get_loc(customer_id)\n",
        "    user_purchases = sparse_matrix[user_index, :].toarray().flatten()\n",
        "    scores = user_purchases @ item_similarity  # Weighted sum of similarities\n",
        "    scores[user_purchases > 0] = 0  # Exclude already purchased products\n",
        "    recommended_items = np.argsort(scores)[::-1][:top_n]\n",
        "    return user_item_matrix.columns[recommended_items]\n",
        "\n",
        "# Example: Recommend top 3 products for a specific customer\n",
        "customer_id = user_item_matrix.index[0]  # Replace with a valid customer ID\n",
        "recommendations = recommend_products(customer_id, top_n=3)\n",
        "print(f\"Recommended products for customer {customer_id}: {recommendations.tolist()}\")\n",
        "\n",
        "# Evaluate the recommendation system\n",
        "# Create a simple train-test split (e.g., 80-20 split)\n",
        "def evaluate_recommendations():\n",
        "    train_matrix = sparse_matrix[:int(0.8 * sparse_matrix.shape[0]), :]\n",
        "    test_matrix = sparse_matrix[int(0.8 * sparse_matrix.shape[0]):, :]\n",
        "\n",
        "    # Predict for all users in the test set\n",
        "    precision_list, recall_list, f1_list = [], [], []\n",
        "    for user_index in range(test_matrix.shape[0]):\n",
        "        user_purchases = test_matrix[user_index, :].toarray().flatten()\n",
        "        scores = user_purchases @ item_similarity\n",
        "        scores[user_purchases > 0] = 0\n",
        "        recommended_items = np.argsort(scores)[::-1][:5]  # Top 5 recommendations\n",
        "\n",
        "        true_positives = np.isin(recommended_items, np.where(user_purchases > 0)[0]).sum()\n",
        "        precision = true_positives / len(recommended_items)\n",
        "        recall = true_positives / (user_purchases > 0).sum()\n",
        "\n",
        "        precision_list.append(precision)\n",
        "        recall_list.append(recall)\n",
        "        f1 = 2 * (precision * recall) / (precision + recall) if (precision + recall) > 0 else 0\n",
        "        f1_list.append(f1)\n",
        "\n",
        "    print(f\"Precision: {np.mean(precision_list):.2f}\")\n",
        "    print(f\"Recall: {np.mean(recall_list):.2f}\")\n",
        "    print(f\"F1-Score: {np.mean(f1_list):.2f}\")\n",
        "\n",
        "# Evaluate the system\n",
        "evaluate_recommendations()"
      ],
      "metadata": {
        "colab": {
          "base_uri": "https://localhost:8080/"
        },
        "id": "cWyvtgf34WL1",
        "outputId": "5be7daf8-a0d1-4136-ce4e-bd583b2dcc9b"
      },
      "execution_count": 3,
      "outputs": [
        {
          "output_type": "stream",
          "name": "stdout",
          "text": [
            "Recommended products for customer 5524: ['MntGoldProds', 'MntSweetProducts', 'MntFishProducts']\n",
            "Precision: 0.92\n",
            "Recall: 0.85\n",
            "F1-Score: 0.87\n"
          ]
        }
      ]
    },
    {
      "cell_type": "markdown",
      "source": [
        "### Explanation:\n",
        "1. **Collaborative Filtering**:\n",
        "   - Built an item-based collaborative filtering model using cosine similarity on product latent factors.\n",
        "\n",
        "2. **Matrix Factorization**:\n",
        "   - Applied Truncated SVD to decompose the user-item matrix into latent factors for users and items.\n",
        "\n",
        "3. **Evaluation**:\n",
        "   - Used precision, recall, and F1-score to evaluate the quality of recommendations.\n",
        "\n",
        "4. **Recommendations**:\n",
        "   - The `recommend_products` function returns the top `n` product recommendations for a given customer.\n",
        "\n",
        "---\n",
        "\n",
        "### Results Interpretation\n",
        "#### Example Recommendations\n",
        "- **Customer ID: 5524**\n",
        "  - Recommended Products: `['MntGoldProds', 'MntSweetProducts', 'MntFishProducts']`\n",
        "  - Interpretation: The system successfully recommends products that the customer has not purchased but are likely to align with their purchase patterns based on similarity.\n",
        "\n",
        "#### Evaluation Metrics\n",
        "- **Precision: 0.92**\n",
        "  - High precision indicates that 92% of the recommended products were relevant (true positives).\n",
        "\n",
        "- **Recall: 0.85**\n",
        "  - The model captured 85% of all relevant products for the users in the test set.\n",
        "\n",
        "- **F1-Score: 0.87**\n",
        "  - The harmonic mean of precision and recall suggests a strong balance between accuracy and coverage of recommendations.\n",
        "\n",
        "### Deliverables\n",
        "1. A functional recommendation system that provides personalized product suggestions.\n",
        "2. Insights from purchase patterns to inform cross-selling strategies."
      ],
      "metadata": {
        "id": "EgGMQT1x5Nfj"
      }
    }
  ]
}